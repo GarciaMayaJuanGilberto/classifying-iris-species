{
  "nbformat": 4,
  "nbformat_minor": 0,
  "metadata": {
    "colab": {
      "name": "Untitled0.ipynb",
      "provenance": []
    },
    "kernelspec": {
      "name": "python3",
      "display_name": "Python 3"
    }
  },
  "cells": [
    {
      "cell_type": "markdown",
      "metadata": {
        "id": "C2KQhU5xwgKc"
      },
      "source": [
        "first we must import the data set that stores the data\n",
        "\n",
        "---"
      ]
    },
    {
      "cell_type": "code",
      "metadata": {
        "id": "uAyyzLsPs6i1"
      },
      "source": [
        "from sklearn.datasets import load_iris\n",
        "iris_dataset = load_iris()"
      ],
      "execution_count": null,
      "outputs": []
    },
    {
      "cell_type": "markdown",
      "metadata": {
        "id": "prNia-e6tDnu"
      },
      "source": [
        "the data set must have values ​​about the objects\n",
        "\n"
      ]
    },
    {
      "cell_type": "code",
      "metadata": {
        "id": "zK7EgKBOtGWf"
      },
      "source": [
        "print(\"Keys of iris_dataset: \\n{}\".format(iris_dataset.keys()))"
      ],
      "execution_count": null,
      "outputs": []
    },
    {
      "cell_type": "markdown",
      "metadata": {
        "id": "LyO-Y7cHtI0S"
      },
      "source": [
        "the code shows the characteristics of the data set as a description"
      ]
    },
    {
      "cell_type": "code",
      "metadata": {
        "id": "Evf8kllptPGv"
      },
      "source": [
        "print(iris_dataset['DESCR'][:193] + \"\\n...\")"
      ],
      "execution_count": null,
      "outputs": []
    },
    {
      "cell_type": "markdown",
      "metadata": {
        "id": "O3Ur4IlCtRs0"
      },
      "source": [
        "this line will help us find the flower species"
      ]
    },
    {
      "cell_type": "code",
      "metadata": {
        "id": "8OBQab2AtUd6"
      },
      "source": [
        "print(\"Target names: {}\".format(iris_dataset['target_names']))"
      ],
      "execution_count": null,
      "outputs": []
    },
    {
      "cell_type": "markdown",
      "metadata": {
        "id": "nTB-DvJstVm2"
      },
      "source": [
        "the line executes the action that describes the characteristics of the object"
      ]
    },
    {
      "cell_type": "code",
      "metadata": {
        "id": "EbF_HUOctZB3"
      },
      "source": [
        "print(\"Feature names: \\n{}\".format(iris_dataset['feature_names']))"
      ],
      "execution_count": null,
      "outputs": []
    },
    {
      "cell_type": "markdown",
      "metadata": {
        "id": "EiJ1Nl9TtcvK"
      },
      "source": [
        "As we know at the beginning of the chapter it was mentioned that it is based on the measurements of the irises, this line contains these data\n"
      ]
    },
    {
      "cell_type": "code",
      "metadata": {
        "id": "FfX2GSqUtdN4"
      },
      "source": [
        "print(\"Type of data: {}\".format(type(iris_dataset['data'])))"
      ],
      "execution_count": null,
      "outputs": []
    },
    {
      "cell_type": "code",
      "metadata": {
        "id": "r88-tvb_tjfs"
      },
      "source": [
        "print(\"Shape of data: {}\".format(iris_dataset['data'].shape))"
      ],
      "execution_count": null,
      "outputs": []
    },
    {
      "cell_type": "markdown",
      "metadata": {
        "id": "M8sCA_7QtpUx"
      },
      "source": [
        "\n",
        "\n",
        "the columns you would like are inserted in the line, as you know the columns represent 4 measurements of each flower\n",
        "\n"
      ]
    },
    {
      "cell_type": "code",
      "metadata": {
        "id": "81kozybBtqHS"
      },
      "source": [
        "print(\"First five columns of data:\\n{}\".format(iris_dataset['data'][:5]))"
      ],
      "execution_count": null,
      "outputs": []
    },
    {
      "cell_type": "markdown",
      "metadata": {
        "id": "NN8Mt3iLtq-M"
      },
      "source": [
        "\n",
        "taget is a one-dimensional matrix, to make this line we simply use it, there are the species of the flowers that we have in the data set\n"
      ]
    },
    {
      "cell_type": "code",
      "metadata": {
        "id": "WyfbWArntuvs"
      },
      "source": [
        "print(\"Type of target: {}\".format(type(iris_dataset['target'])))"
      ],
      "execution_count": null,
      "outputs": []
    },
    {
      "cell_type": "markdown",
      "metadata": {
        "id": "Eoi79UQxtzzR"
      },
      "source": [
        ""
      ]
    },
    {
      "cell_type": "code",
      "metadata": {
        "id": "J4hjDwPxt0Wa"
      },
      "source": [
        "print(\"Shape of target: {}\".format(iris_dataset['target'].shape))"
      ],
      "execution_count": null,
      "outputs": []
    },
    {
      "cell_type": "markdown",
      "metadata": {
        "id": "Be0IKq_Mt52J"
      },
      "source": [
        "you put what the code asks of you"
      ]
    },
    {
      "cell_type": "code",
      "metadata": {
        "id": "meqtQ420t4Xz"
      },
      "source": [
        "print(\"Target:\\n{}\".format(iris_dataset['target']))"
      ],
      "execution_count": null,
      "outputs": []
    },
    {
      "cell_type": "markdown",
      "metadata": {
        "id": "EJOaYOJ3t6ly"
      },
      "source": [
        "here you train using 25% of the data set this with two levels, or 75% randomly"
      ]
    },
    {
      "cell_type": "code",
      "metadata": {
        "id": "u7a2J-qPt77m"
      },
      "source": [
        "from sklearn.model_selection import train_test_split\n",
        "X_train, X_test, y_train, y_test = train_test_split(\n",
        "iris_dataset['data'], iris_dataset['target'], random_state=0)"
      ],
      "execution_count": null,
      "outputs": []
    },
    {
      "cell_type": "markdown",
      "metadata": {
        "id": "lbo9ebhZuBpD"
      },
      "source": [
        "here you will insert two values ​​that correspond to X and Y"
      ]
    },
    {
      "cell_type": "code",
      "metadata": {
        "id": "sKratwesuCQe"
      },
      "source": [
        "print(\"X_train shape: {}\".format(X_train.shape))\n",
        "print(\"y_train shape: {}\".format(y_train.shape))"
      ],
      "execution_count": null,
      "outputs": []
    },
    {
      "cell_type": "code",
      "metadata": {
        "id": "cPdf8SyWuEMH"
      },
      "source": [
        "print(\"X_test shape: {}\".format(X_test.shape))\n",
        "print(\"y_test shape: {}\".format(y_test.shape))"
      ],
      "execution_count": null,
      "outputs": []
    },
    {
      "cell_type": "markdown",
      "metadata": {
        "id": "BDP18PRUuH1T"
      },
      "source": [
        "As we know, they can see errors in the data such as the measurements or the units used, in the following line the scatter point graphs are implemented to perform an observation of the data"
      ]
    },
    {
      "cell_type": "code",
      "metadata": {
        "id": "94_ylChpuIbU"
      },
      "source": [
        "# create dataframe from data in X_train\n",
        "# label the columns using the strings in iris_dataset.feature_names\n",
        "iris_dataframe = pd.DataFrame(X_train, columns=iris_dataset.feature_names)\n",
        "# create a scatter matrix from the dataframe, color by y_train\n",
        "grr = pd.scatter_matrix(iris_dataframe, c=y_train, figsize=(15, 15), marker='o',\n",
        "hist_kwds={'bins': 20}, s=60, alpha=.8, cmap=mglearn.cm3)"
      ],
      "execution_count": null,
      "outputs": []
    },
    {
      "cell_type": "markdown",
      "metadata": {
        "id": "Rnu2kxE-uKzU"
      },
      "source": [
        "\n",
        "\n",
        "we will use the scikit-learn algorithm\n",
        "which will help to select a data that is winged\n",
        "\n"
      ]
    },
    {
      "cell_type": "code",
      "metadata": {
        "id": "Zaxa87MOuLWN"
      },
      "source": [
        "from sklearn.neighbors import KNeighborsClassifier\n",
        "knn = KNeighborsClassifier(n_neighbors=1)"
      ],
      "execution_count": null,
      "outputs": []
    },
    {
      "cell_type": "markdown",
      "metadata": {
        "id": "6G1GWNIUuO3_"
      },
      "source": [
        "At this point, according to the training, we will use the line to make predictions from the selection functions"
      ]
    },
    {
      "cell_type": "code",
      "metadata": {
        "id": "1Hqiy7qTuPcX"
      },
      "source": [
        "knn.fit(X_train, y_train)"
      ],
      "execution_count": null,
      "outputs": []
    },
    {
      "cell_type": "markdown",
      "metadata": {
        "id": "NhVCYujnuTUr"
      },
      "source": [
        "the predictions based on the characteristics in this case the measurements of the petals etc ..."
      ]
    },
    {
      "cell_type": "code",
      "metadata": {
        "id": "E_JW8_oHuUrF"
      },
      "source": [
        "\n",
        "X_new = np.array([[5, 2.9, 1, 0.2]])\n",
        "print(\"X_new.shape: {}\".format(X_new.shape))"
      ],
      "execution_count": null,
      "outputs": []
    },
    {
      "cell_type": "code",
      "metadata": {
        "id": "SLMmuPcYuYiD"
      },
      "source": [
        "prediction = knn.predict(X_new)\n",
        "print(\"Prediction: {}\".format(prediction))\n",
        "print(\"Predicted target name: {}\".format(\n",
        "iris_dataset['target_names'][prediction]))"
      ],
      "execution_count": null,
      "outputs": []
    },
    {
      "cell_type": "markdown",
      "metadata": {
        "id": "p6B5f16subYI"
      },
      "source": [
        "Here it is evaluated that the prediction is correct and does the function of predicting the species of the flower"
      ]
    },
    {
      "cell_type": "code",
      "metadata": {
        "id": "9PVJTsf9ub4E"
      },
      "source": [
        "y_pred = knn.predict(X_test)\n",
        "print(\"Test set predictions:\\n {}\".format(y_pred))"
      ],
      "execution_count": null,
      "outputs": []
    },
    {
      "cell_type": "markdown",
      "metadata": {
        "id": "WirqQ2BaugpR"
      },
      "source": [
        "Well now the precision of the prediction will be scored, which would be of more and less importance depends on the case"
      ]
    },
    {
      "cell_type": "code",
      "metadata": {
        "id": "nWOGXF-xuhH5"
      },
      "source": [
        "print(\"Test set score: {:.2f}\".format(np.mean(y_pred == y_test)))"
      ],
      "execution_count": null,
      "outputs": []
    },
    {
      "cell_type": "markdown",
      "metadata": {
        "id": "xgqc9Bpdulvn"
      },
      "source": [
        "once learning all of the above, we know that this algorithm works for machine learning."
      ]
    },
    {
      "cell_type": "code",
      "metadata": {
        "id": "PEcAp52NumZf"
      },
      "source": [
        "X_train, X_test, y_train, y_test = train_test_split(\n",
        "iris_dataset['data'], iris_dataset['target'], random_state=0)\n",
        "knn = KNeighborsClassifier(n_neighbors=1)\n",
        "knn.fit(X_train, y_train)\n",
        "print(\"Test set score: {:.2f}\".format(knn.score(X_test, y_test)))"
      ],
      "execution_count": null,
      "outputs": []
    }
  ]
}